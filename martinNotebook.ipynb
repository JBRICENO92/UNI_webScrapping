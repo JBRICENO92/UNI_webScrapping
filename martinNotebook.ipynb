{
 "cells": [
  {
   "cell_type": "code",
   "execution_count": 3,
   "metadata": {},
   "outputs": [],
   "source": [
    "# !pip install selenium"
   ]
  },
  {
   "cell_type": "code",
   "execution_count": 4,
   "metadata": {},
   "outputs": [],
   "source": [
    "from selenium import webdriver\n",
    "from selenium.webdriver.chrome.options import Options"
   ]
  },
  {
   "cell_type": "code",
   "execution_count": null,
   "metadata": {},
   "outputs": [],
   "source": [
    "\n",
    "chrome_options = Options()\n",
    "chrome_options.add_argument(\"--headless\")  # Opción sin cabeza para ejecución en segundo plano\n",
    "\n",
    "# Ruta al ejecutable de ChromeDriver, descárgalo desde https://sites.google.com/chromium.org/driver/\n",
    "chrome_path = '/ruta/a/tu/chromedriver'\n",
    "\n",
    "# Inicializar el navegador\n",
    "driver = webdriver.Chrome(executable_path=chrome_path, options=chrome_options)\n",
    "\n",
    "# URL de la página que deseas descargar\n",
    "url = 'https://www.ejemplo.com'\n",
    "\n",
    "# Abrir la página en el navegador\n",
    "driver.get(url)\n",
    "\n",
    "# Esperar a que se cargue completamente la página (puedes ajustar este tiempo según tus necesidades)\n",
    "driver.implicitly_wait(10)\n",
    "\n",
    "# Obtener el HTML de la página\n",
    "html = driver.page_source\n",
    "\n",
    "# Guardar el HTML en un archivo\n",
    "with open('pagina.html', 'w', encoding='utf-8') as file:\n",
    "    file.write(html)\n",
    "\n",
    "# Cerrar el navegador\n",
    "driver.quit()"
   ]
  }
 ],
 "metadata": {
  "kernelspec": {
   "display_name": "Python 3",
   "language": "python",
   "name": "python3"
  },
  "language_info": {
   "codemirror_mode": {
    "name": "ipython",
    "version": 3
   },
   "file_extension": ".py",
   "mimetype": "text/x-python",
   "name": "python",
   "nbconvert_exporter": "python",
   "pygments_lexer": "ipython3",
   "version": "3.11.7"
  }
 },
 "nbformat": 4,
 "nbformat_minor": 2
}
