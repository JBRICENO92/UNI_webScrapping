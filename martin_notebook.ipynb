{
 "cells": [
  {
   "cell_type": "code",
   "execution_count": 12,
   "metadata": {},
   "outputs": [],
   "source": [
    "# ! pip install pyodbc\n",
    "# ! pip install pyarrow\n",
    "# ! pip install pandas"
   ]
  },
  {
   "cell_type": "code",
   "execution_count": 1,
   "metadata": {},
   "outputs": [],
   "source": [
    "import pyodbc\n",
    "import pandas as pd"
   ]
  },
  {
   "cell_type": "code",
   "execution_count": 8,
   "metadata": {},
   "outputs": [
    {
     "name": "stdout",
     "output_type": "stream",
     "text": [
      "(4, 'Artículo 4', 'Contenido del artículo 4')\n",
      "(5, 'Artículo 5', 'Contenido del artículo 5')\n",
      "(6, 'Artículo 6', 'Contenido del artículo 6')\n"
     ]
    }
   ],
   "source": [
    "# Configuración de la conexión\n",
    "server = '(localdb)\\Local'  # Puedes utilizar 'localhost' si estás en tu máquina\n",
    "database = 'WebScrapping'\n",
    "username = ''  # Si estás usando autenticación de Windows, puedes dejar esto en blanco\n",
    "password = ''  # Si estás usando autenticación de Windows, puedes dejar esto en blanco\n",
    "driver = '{ODBC Driver 17 for SQL Server}'  # Asegúrate de tener el controlador correcto instalado\n",
    "\n",
    "# Crear la conexión\n",
    "connection_string = f'DRIVER={driver};SERVER={server};DATABASE={database};UID={username};PWD={password}'\n",
    "conn = pyodbc.connect(connection_string)\n",
    "cursor = conn.cursor()\n",
    "\n",
    "# Crear la tabla \"DatosWeb\" si no existe\n",
    "cursor.execute('''\n",
    "    IF NOT EXISTS (SELECT * FROM INFORMATION_SCHEMA.TABLES WHERE TABLE_NAME = 'DatosWeb')\n",
    "    BEGIN\n",
    "        CREATE TABLE DatosWeb (\n",
    "            ID INT PRIMARY KEY,\n",
    "            Titulo NVARCHAR(255) NOT NULL,\n",
    "            Contenido TEXT\n",
    "        );\n",
    "    END\n",
    "''')\n",
    "conn.commit()\n",
    "\n",
    "# Crear un DataFrame de ejemplo\n",
    "data = {'ID': [4, 5, 6],\n",
    "        'Titulo': ['Artículo 4', 'Artículo 5', 'Artículo 6'],\n",
    "        'Contenido': ['Contenido del artículo 4', 'Contenido del artículo 5', 'Contenido del artículo 6']}\n",
    "\n",
    "df = pd.DataFrame(data)\n",
    "\n",
    "# Usar to_sql para insertar datos en la tabla \"DatosWeb\"\n",
    "df.to_sql('DatosWeb', conn, if_exists='replace', index=False)\n",
    "\n",
    "# Consultar los datos\n",
    "cursor = conn.cursor()\n",
    "cursor.execute('SELECT * FROM DatosWeb')\n",
    "for row in cursor.fetchall():\n",
    "    print(row)\n",
    "\n",
    "# Cerrar la conexión\n",
    "conn.close()"
   ]
  },
  {
   "cell_type": "code",
   "execution_count": null,
   "metadata": {},
   "outputs": [],
   "source": []
  }
 ],
 "metadata": {
  "kernelspec": {
   "display_name": "Python 3",
   "language": "python",
   "name": "python3"
  },
  "language_info": {
   "codemirror_mode": {
    "name": "ipython",
    "version": 3
   },
   "file_extension": ".py",
   "mimetype": "text/x-python",
   "name": "python",
   "nbconvert_exporter": "python",
   "pygments_lexer": "ipython3",
   "version": "3.11.7"
  }
 },
 "nbformat": 4,
 "nbformat_minor": 2
}
