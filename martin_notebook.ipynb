{
 "cells": [
  {
   "cell_type": "code",
   "execution_count": 12,
   "metadata": {},
   "outputs": [],
   "source": [
    "# ! pip install pyodbc\n",
    "# ! pip install pyarrow\n",
    "# ! pip install pandas\n",
    "# !pip install sqlalchemy"
   ]
  },
  {
   "cell_type": "code",
   "execution_count": 1,
   "metadata": {},
   "outputs": [],
   "source": [
    "from sqlalchemy import create_engine, Column, Integer, String, Numeric, Date\n",
    "from sqlalchemy.ext.declarative import declarative_base\n",
    "from sqlalchemy.orm import sessionmaker\n",
    "import pyodbc\n",
    "import pandas as pd"
   ]
  },
  {
   "cell_type": "code",
   "execution_count": 2,
   "metadata": {},
   "outputs": [],
   "source": [
    "datos = pd.read_csv(r'.\\Results_html\\notas.csv')"
   ]
  },
  {
   "cell_type": "code",
   "execution_count": 3,
   "metadata": {},
   "outputs": [
    {
     "data": {
      "text/plain": [
       "Index(['Codigo', 'Nombres', 'Modalidad', 'Prueba1', 'Prueba2', 'Prueba3',\n",
       "       'Acumulado', 'N', 'NV', 'NA', 'Notafinal', 'Ingreso', 'Observacion'],\n",
       "      dtype='object')"
      ]
     },
     "execution_count": 3,
     "metadata": {},
     "output_type": "execute_result"
    }
   ],
   "source": [
    "#renombrar para evitar problemas de espacios o tildes\n",
    "nuevos_nombres = {\n",
    "    'Código': 'Codigo',\n",
    "    'Prueba 1': 'Prueba1',\n",
    "    'Prueba 2': 'Prueba2',\n",
    "    'Prueba 3': 'Prueba3',\n",
    "    'Nota final': 'Notafinal',\n",
    "    'Observación': 'Observacion'\n",
    "}\n",
    "\n",
    "# Cambia los nombres de las columnas\n",
    "datos = datos.rename(columns=nuevos_nombres)\n",
    "datos.columns"
   ]
  },
  {
   "cell_type": "code",
   "execution_count": 5,
   "metadata": {},
   "outputs": [
    {
     "name": "stderr",
     "output_type": "stream",
     "text": [
      "C:\\Users\\aiaco\\AppData\\Local\\Temp\\ipykernel_16172\\1985450141.py:2: MovedIn20Warning: The ``declarative_base()`` function is now available as sqlalchemy.orm.declarative_base(). (deprecated since: 2.0) (Background on SQLAlchemy 2.0 at: https://sqlalche.me/e/b8d9)\n",
      "  Base = declarative_base()\n"
     ]
    }
   ],
   "source": [
    "# Define el modelo SQLAlchemy\n",
    "Base = declarative_base()\n",
    "\n",
    "class Notas(Base):\n",
    "    __tablename__ = 'Notas'\n",
    "\n",
    "    Codigo = Column(String(255),primary_key=True)\n",
    "    Nombres = Column(String(255))\n",
    "    Modalidad = Column(String(255))\n",
    "    Prueba1 = Column(Numeric(5, 2))\n",
    "    Prueba2 = Column(Numeric(5, 2))\n",
    "    Prueba3 = Column(Numeric(5, 2))\n",
    "    Acumulado = Column(Numeric(5, 2))\n",
    "    N = Column(Numeric(5, 2))\n",
    "    NV = Column(Numeric(5, 2))\n",
    "    NA = Column(Numeric(5, 2))\n",
    "    NotaFinal = Column(Numeric(5, 2))\n",
    "    Ingreso = Column(String(255))\n",
    "    Observacion = Column(String(255))\n",
    "\n",
    "# Configura la conexión a la base de datos\n",
    "engine = create_engine('mssql+pyodbc://@(localdb)\\Local/WebScrapping?driver=ODBC+Driver+17+for+SQL+Server')\n",
    "\n",
    "# Elimina la tabla si ya existe\n",
    "Base.metadata.tables['Notas'].drop(engine, checkfirst=True)\n",
    "\n",
    "# Crea la tabla en la base de datos\n",
    "Base.metadata.create_all(engine)\n",
    "\n",
    "# Crea una sesión de SQLAlchemy\n",
    "Session = sessionmaker(bind=engine)\n",
    "session = Session()\n",
    "\n",
    "# Inserta datos en la tabla usando el DataFrame\n",
    "datos.to_sql('Notas', con=engine, index=False, if_exists='replace')\n",
    "\n",
    "# Consulta los datos\n",
    "# results = session.query(Notas).all()\n",
    "# for row in results:\n",
    "#     print(row.Codigo, row.Nombres, row.NotaFinal)\n",
    "\n",
    "# Cierra la sesión\n",
    "session.close()"
   ]
  },
  {
   "cell_type": "code",
   "execution_count": null,
   "metadata": {},
   "outputs": [],
   "source": []
  }
 ],
 "metadata": {
  "kernelspec": {
   "display_name": "Python 3",
   "language": "python",
   "name": "python3"
  },
  "language_info": {
   "codemirror_mode": {
    "name": "ipython",
    "version": 3
   },
   "file_extension": ".py",
   "mimetype": "text/x-python",
   "name": "python",
   "nbconvert_exporter": "python",
   "pygments_lexer": "ipython3",
   "version": "3.11.7"
  }
 },
 "nbformat": 4,
 "nbformat_minor": 2
}
