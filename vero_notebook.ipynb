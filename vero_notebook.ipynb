{
 "cells": [
  {
   "cell_type": "code",
   "execution_count": 19,
   "metadata": {},
   "outputs": [
    {
     "name": "stdout",
     "output_type": "stream",
     "text": [
      "Requirement already satisfied: selenium in c:\\users\\veron\\onedrive\\documents\\python_envs\\pyvero\\lib\\site-packages (4.17.2)\n",
      "Requirement already satisfied: urllib3<3,>=1.26 in c:\\users\\veron\\onedrive\\documents\\python_envs\\pyvero\\lib\\site-packages (from urllib3[socks]<3,>=1.26->selenium) (2.2.0)\n",
      "Requirement already satisfied: trio~=0.17 in c:\\users\\veron\\onedrive\\documents\\python_envs\\pyvero\\lib\\site-packages (from selenium) (0.24.0)\n",
      "Requirement already satisfied: trio-websocket~=0.9 in c:\\users\\veron\\onedrive\\documents\\python_envs\\pyvero\\lib\\site-packages (from selenium) (0.11.1)\n",
      "Requirement already satisfied: certifi>=2021.10.8 in c:\\users\\veron\\onedrive\\documents\\python_envs\\pyvero\\lib\\site-packages (from selenium) (2024.2.2)\n",
      "Requirement already satisfied: typing_extensions>=4.9.0 in c:\\users\\veron\\onedrive\\documents\\python_envs\\pyvero\\lib\\site-packages (from selenium) (4.9.0)\n",
      "Requirement already satisfied: attrs>=20.1.0 in c:\\users\\veron\\onedrive\\documents\\python_envs\\pyvero\\lib\\site-packages (from trio~=0.17->selenium) (23.2.0)\n",
      "Requirement already satisfied: sortedcontainers in c:\\users\\veron\\onedrive\\documents\\python_envs\\pyvero\\lib\\site-packages (from trio~=0.17->selenium) (2.4.0)\n",
      "Requirement already satisfied: idna in c:\\users\\veron\\onedrive\\documents\\python_envs\\pyvero\\lib\\site-packages (from trio~=0.17->selenium) (3.6)\n",
      "Requirement already satisfied: outcome in c:\\users\\veron\\onedrive\\documents\\python_envs\\pyvero\\lib\\site-packages (from trio~=0.17->selenium) (1.3.0.post0)\n",
      "Requirement already satisfied: sniffio>=1.3.0 in c:\\users\\veron\\onedrive\\documents\\python_envs\\pyvero\\lib\\site-packages (from trio~=0.17->selenium) (1.3.0)\n",
      "Requirement already satisfied: cffi>=1.14 in c:\\users\\veron\\onedrive\\documents\\python_envs\\pyvero\\lib\\site-packages (from trio~=0.17->selenium) (1.16.0)\n",
      "Requirement already satisfied: wsproto>=0.14 in c:\\users\\veron\\onedrive\\documents\\python_envs\\pyvero\\lib\\site-packages (from trio-websocket~=0.9->selenium) (1.2.0)\n",
      "Requirement already satisfied: pysocks!=1.5.7,<2.0,>=1.5.6 in c:\\users\\veron\\onedrive\\documents\\python_envs\\pyvero\\lib\\site-packages (from urllib3[socks]<3,>=1.26->selenium) (1.7.1)\n",
      "Requirement already satisfied: pycparser in c:\\users\\veron\\onedrive\\documents\\python_envs\\pyvero\\lib\\site-packages (from cffi>=1.14->trio~=0.17->selenium) (2.21)\n",
      "Requirement already satisfied: h11<1,>=0.9.0 in c:\\users\\veron\\onedrive\\documents\\python_envs\\pyvero\\lib\\site-packages (from wsproto>=0.14->trio-websocket~=0.9->selenium) (0.14.0)\n"
     ]
    }
   ],
   "source": [
    "# !pip install requests beautifulsoup4 selenium\n",
    "# !pip install chromedriver-binary==121.0.6167.184.0\n",
    "# !pip install --upgrade selenium"
   ]
  },
  {
   "cell_type": "code",
   "execution_count": 16,
   "metadata": {},
   "outputs": [],
   "source": [
    "from selenium import webdriver\n",
    "import chromedriver_binary\n",
    "from bs4 import BeautifulSoup\n",
    "from selenium.webdriver.common.by import By\n",
    "from selenium.webdriver.support.ui import WebDriverWait\n",
    "from selenium.webdriver.support import expected_conditions as EC"
   ]
  },
  {
   "cell_type": "code",
   "execution_count": 20,
   "metadata": {},
   "outputs": [
    {
     "ename": "TimeoutException",
     "evalue": "Message: \nStacktrace:\n\tGetHandleVerifier [0x00007FF762BB7012+3522402]\n\t(No symbol) [0x00007FF7627D8352]\n\t(No symbol) [0x00007FF762685ABB]\n\t(No symbol) [0x00007FF7626CBF0E]\n\t(No symbol) [0x00007FF7626CC08C]\n\t(No symbol) [0x00007FF76270E437]\n\t(No symbol) [0x00007FF7626EF09F]\n\t(No symbol) [0x00007FF76270BDA3]\n\t(No symbol) [0x00007FF7626EEE03]\n\t(No symbol) [0x00007FF7626BF4D4]\n\t(No symbol) [0x00007FF7626C05F1]\n\tGetHandleVerifier [0x00007FF762BE9B9D+3730157]\n\tGetHandleVerifier [0x00007FF762C3F02D+4079485]\n\tGetHandleVerifier [0x00007FF762C375D3+4048163]\n\tGetHandleVerifier [0x00007FF76290A649+718233]\n\t(No symbol) [0x00007FF7627E4A3F]\n\t(No symbol) [0x00007FF7627DFA94]\n\t(No symbol) [0x00007FF7627DFBC2]\n\t(No symbol) [0x00007FF7627CF2E4]\n\tBaseThreadInitThunk [0x00007FFA44BD257D+29]\n\tRtlUserThreadStart [0x00007FFA45DCAA58+40]\n",
     "output_type": "error",
     "traceback": [
      "\u001b[1;31m---------------------------------------------------------------------------\u001b[0m",
      "\u001b[1;31mTimeoutException\u001b[0m                          Traceback (most recent call last)",
      "Cell \u001b[1;32mIn[20], line 17\u001b[0m\n\u001b[0;32m     14\u001b[0m driver\u001b[38;5;241m.\u001b[39mget(url)\n\u001b[0;32m     16\u001b[0m \u001b[38;5;66;03m# Esperar a que la página se cargue completamente\u001b[39;00m\n\u001b[1;32m---> 17\u001b[0m \u001b[43mWebDriverWait\u001b[49m\u001b[43m(\u001b[49m\u001b[43mdriver\u001b[49m\u001b[43m,\u001b[49m\u001b[43m \u001b[49m\u001b[38;5;241;43m10\u001b[39;49m\u001b[43m)\u001b[49m\u001b[38;5;241;43m.\u001b[39;49m\u001b[43muntil\u001b[49m\u001b[43m(\u001b[49m\u001b[43mEC\u001b[49m\u001b[38;5;241;43m.\u001b[39;49m\u001b[43mpresence_of_element_located\u001b[49m\u001b[43m(\u001b[49m\u001b[43m(\u001b[49m\u001b[43mBy\u001b[49m\u001b[38;5;241;43m.\u001b[39;49m\u001b[43mCSS_SELECTOR\u001b[49m\u001b[43m,\u001b[49m\u001b[43m \u001b[49m\u001b[38;5;124;43m'\u001b[39;49m\u001b[38;5;124;43mselector_de_elemento_cargado\u001b[39;49m\u001b[38;5;124;43m'\u001b[39;49m\u001b[43m)\u001b[49m\u001b[43m)\u001b[49m\u001b[43m)\u001b[49m\n\u001b[0;32m     19\u001b[0m \u001b[38;5;66;03m# Esperar a que se cargue el contenido dinámico (puedes ajustar esto según la estructura de la página y cómo se carga el contenido)\u001b[39;00m\n\u001b[0;32m     20\u001b[0m WebDriverWait(driver, \u001b[38;5;241m10\u001b[39m)\u001b[38;5;241m.\u001b[39muntil(EC\u001b[38;5;241m.\u001b[39mvisibility_of_element_located((By\u001b[38;5;241m.\u001b[39mCSS_SELECTOR, \u001b[38;5;124m'\u001b[39m\u001b[38;5;124mselector_de_contenido_dinamico\u001b[39m\u001b[38;5;124m'\u001b[39m)))\n",
      "File \u001b[1;32mc:\\Users\\veron\\OneDrive\\Documents\\python_envs\\pyVero\\Lib\\site-packages\\selenium\\webdriver\\support\\wait.py:105\u001b[0m, in \u001b[0;36mWebDriverWait.until\u001b[1;34m(self, method, message)\u001b[0m\n\u001b[0;32m    103\u001b[0m     \u001b[38;5;28;01mif\u001b[39;00m time\u001b[38;5;241m.\u001b[39mmonotonic() \u001b[38;5;241m>\u001b[39m end_time:\n\u001b[0;32m    104\u001b[0m         \u001b[38;5;28;01mbreak\u001b[39;00m\n\u001b[1;32m--> 105\u001b[0m \u001b[38;5;28;01mraise\u001b[39;00m TimeoutException(message, screen, stacktrace)\n",
      "\u001b[1;31mTimeoutException\u001b[0m: Message: \nStacktrace:\n\tGetHandleVerifier [0x00007FF762BB7012+3522402]\n\t(No symbol) [0x00007FF7627D8352]\n\t(No symbol) [0x00007FF762685ABB]\n\t(No symbol) [0x00007FF7626CBF0E]\n\t(No symbol) [0x00007FF7626CC08C]\n\t(No symbol) [0x00007FF76270E437]\n\t(No symbol) [0x00007FF7626EF09F]\n\t(No symbol) [0x00007FF76270BDA3]\n\t(No symbol) [0x00007FF7626EEE03]\n\t(No symbol) [0x00007FF7626BF4D4]\n\t(No symbol) [0x00007FF7626C05F1]\n\tGetHandleVerifier [0x00007FF762BE9B9D+3730157]\n\tGetHandleVerifier [0x00007FF762C3F02D+4079485]\n\tGetHandleVerifier [0x00007FF762C375D3+4048163]\n\tGetHandleVerifier [0x00007FF76290A649+718233]\n\t(No symbol) [0x00007FF7627E4A3F]\n\t(No symbol) [0x00007FF7627DFA94]\n\t(No symbol) [0x00007FF7627DFBC2]\n\t(No symbol) [0x00007FF7627CF2E4]\n\tBaseThreadInitThunk [0x00007FFA44BD257D+29]\n\tRtlUserThreadStart [0x00007FFA45DCAA58+40]\n"
     ]
    }
   ],
   "source": [
    "# Chemin vers le webdriver, téléchargeable à partir de : https://sites.google.com/a/chromium.org/chromedriver/downloads\n",
    "# Assurez-vous de télécharger la version compatible avec votre navigateur Chrome\n",
    "# chrome_driver_path = r'C:\\Users\\veron\\OneDrive\\Documents\\ChromeDriver\\chromedriver.exe'\n",
    "\n",
    "# Initialiser le navigateur\n",
    "options = webdriver.ChromeOptions()\n",
    "options.add_argument('--headless')\n",
    "driver = webdriver.Chrome(options=options)  #executable_path=chrome_driver_path) #executable_path=chrome_driver_path)\n",
    "\n",
    "# URL de la page à scraper\n",
    "url = 'https://resultados.admision.uni.edu.pe/dia3.html'\n",
    "\n",
    "# Charger la page\n",
    "driver.get(url)\n",
    "\n",
    "# Esperar a que la página se cargue completamente\n",
    "WebDriverWait(driver, 10).until(EC.presence_of_element_located((By.CSS_SELECTOR, 'td.sorting_1')))\n",
    "\n",
    "# Esperar a que se cargue el contenido dinámico (puedes ajustar esto según la estructura de la página y cómo se carga el contenido)\n",
    "WebDriverWait(driver, 10).until(EC.visibility_of_element_located((By.CSS_SELECTOR, 'selector_de_contenido_dinamico')))\n",
    "\n",
    "\n",
    "# # Attendre que la page se charge complètement (vous pouvez ajuster le temps d'attente selon la vitesse de chargement de la page)\n",
    "# driver.implicitly_wait(10)\n",
    "\n",
    "# Récupérer le contenu HTML de la page après le chargement complet\n",
    "html_content = driver.page_source\n",
    "\n",
    "# Fermer le navigateur\n",
    "driver.quit()\n",
    "\n",
    "# Imprimir el código fuente HTML\n",
    "print(html_content)"
   ]
  },
  {
   "cell_type": "code",
   "execution_count": 6,
   "metadata": {},
   "outputs": [
    {
     "name": "stdout",
     "output_type": "stream",
     "text": [
      "\n",
      "Loading...\t\n"
     ]
    }
   ],
   "source": [
    "# Analyser le contenu HTML de la page\n",
    "soup = BeautifulSoup(html_content, 'html.parser')\n",
    "\n",
    "# Trouver le tableau contenant les données\n",
    "table = soup.find('table', class_='table')\n",
    "\n",
    "# Vérifier si le tableau a été trouvé\n",
    "if table:\n",
    "    # Récupérer les lignes du tableau\n",
    "    rows = table.find_all('tr')\n",
    "\n",
    "    # Parcourir les lignes du tableau\n",
    "    for row in rows:\n",
    "        # Récupérer les cellules de chaque ligne\n",
    "        cells = row.find_all('td')\n",
    "        # Afficher le contenu des cellules\n",
    "        for cell in cells:\n",
    "            print(cell.text.strip(), end='\\t')\n",
    "        print()  # Saut de ligne entre chaque ligne du tableau\n",
    "else:\n",
    "    print('Aucun tableau trouvé sur la page.')\n",
    "\n",
    "\n"
   ]
  },
  {
   "cell_type": "code",
   "execution_count": 14,
   "metadata": {},
   "outputs": [
    {
     "name": "stdout",
     "output_type": "stream",
     "text": [
      "String saved to file: C:\\Users\\veron\\OneDrive\\Documents\\index.html\n"
     ]
    }
   ],
   "source": [
    "texte = html_content\n",
    "\n",
    "file_path = r'C:\\Users\\veron\\OneDrive\\Documents\\index.html'\n",
    "\n",
    "with open(file_path, 'w') as file:\n",
    "    file.write(texte)\n",
    "\n",
    "print(\"String saved to file:\", file_path)"
   ]
  },
  {
   "cell_type": "code",
   "execution_count": null,
   "metadata": {},
   "outputs": [],
   "source": []
  }
 ],
 "metadata": {
  "kernelspec": {
   "display_name": "Python 3",
   "language": "python",
   "name": "python3"
  },
  "language_info": {
   "codemirror_mode": {
    "name": "ipython",
    "version": 3
   },
   "file_extension": ".py",
   "mimetype": "text/x-python",
   "name": "python",
   "nbconvert_exporter": "python",
   "pygments_lexer": "ipython3",
   "version": "3.12.2"
  }
 },
 "nbformat": 4,
 "nbformat_minor": 2
}
